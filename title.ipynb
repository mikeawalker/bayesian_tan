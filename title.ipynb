{
 "cells": [
  {
   "cell_type": "markdown",
   "metadata": {},
   "source": [
    "<h1 style=\"text-align: center;\">  Markov Chain Monte Carlo Based Terrain Aided Navigation  </h1>\n",
    "<p style=\"text-align: center;\">  IYSE6420  </p>\n",
    "<p style=\"text-align: center;\" > Michael Walker </p>\n",
    "<p style=\"text-align: center;\" > November 30 2023 </p>\n"
   ]
  }
 ],
 "metadata": {
  "language_info": {
   "name": "python"
  }
 },
 "nbformat": 4,
 "nbformat_minor": 2
}

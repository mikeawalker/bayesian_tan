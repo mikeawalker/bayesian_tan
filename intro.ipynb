{
 "cells": [
  {
   "cell_type": "markdown",
   "metadata": {},
   "source": [
    "The advent of the Global Positioning System (GPS) has made precision navigation ubiquitous across the planet. However, the availability of GPS is often taken for granted considering how easily GPS service can be denied via jamming. Furthermore, research missions to the moon and other planets can not use a system like GPS for radio navigation and putting a system like that in place is cost prohibitive. This means that alternative navigation schemes are of great interest in many domains.\n",
    "\n",
    "For this project we will consider navigation of a flying body in a GPS denied environment via Terrain Aided Navigation (TAN). TAN solutions have been investigated for quite some time [1,2,3].\n",
    "\n",
    "This project will aim to implement a Bayseian approach to TAN solution using pyMC and measurements from a radar altimeter aboard a flying vehicle.  \n"
   ]
  },
  {
   "cell_type": "markdown",
   "metadata": {},
   "source": [
    "Why pursue a Bayesian approach? \n",
    "\n",
    "Typically,  aerospace applications employ Extended Kalman Filters (EKF) for solving navigation related problems. Kalman filters assume that there is a linear relationship between the measurements and the state vector. EKF variants of the Kalman Filter can handle non-linear relationships but critically require that the relationship between the measurement and the state vector be linearizable. This is achieved by taking the partial derivatives of the measurement equation relative to the state vector. \n",
    "\n",
    "There are no equations that govern the terrain height of the earth or any other celestial body. This makes it extremely difficult to directly formulate a EKF based navigation solution directly as partial derivatives of the surface would have to be taken numerically and would contain lots of false minima. \n",
    "\n",
    "However, if we could formulate a method to determine the current position and velocity of the vehicle based on the terrain it has previously flown over then this data could be fed into a Kalman Filter as direct measurements of the state vector. This would be ideal! In addition to measurements the Kalman Filter requires estimates of the noise on the measurements represented as a covariance. As a whole we can view this as the Kalman Filter expecting measurements as distributions not as discrete values.\n",
    "\n",
    "This sure sounds like a problem that is asking for a Bayseian solution.\n",
    "\n",
    "In this project I will explore several cases of the TAN problem:\n",
    "\n",
    "1. The flight of a vehicle over 2-dimensional terrain sampled from the Earth\n",
    "1. The flight of a vehicle over 3-dimensional terrain sampled from the Earth\n",
    "\n",
    "While other more complex methods such as particle filters exist to solve this sort of problem this project will focus on a purely MCMC baesd approach\n",
    "\n"
   ]
  }
 ],
 "metadata": {
  "language_info": {
   "name": "python"
  }
 },
 "nbformat": 4,
 "nbformat_minor": 2
}

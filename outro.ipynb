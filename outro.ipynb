{
 "cells": [
  {
   "cell_type": "markdown",
   "metadata": {},
   "source": [
    "# Conclusions\n",
    "\n",
    "In this project we explored using Markov Chain Montecarlo (MCMC) to solve the navigation problem via terrain matching. At its core this problem is a rather simple linear regression. Understanding and effectively employing this method requires proper non-dimensionalization of time and selection of the prior distributions such that an adequate number of terrain pixels will be searched in the right amount of samples. Having a sufficiently high altimeter sample resolution is also critical to the performance of this method. If the samples are not dense enough and they skip over multiple map pixels then there is a higher chance of failed convergencce.  This method succeeds at achiving subpixel reslution in the posteriors and provides a full set of position samples across the entire sample space. The algorithm does require significant computation and could be improved upon with hardware acceleartion via a GPU or FPGA.  Finally, this method does suffer from a potential false convergence in some cases where a solution is found with high altimeter noise which effectively \"washes out\" the terrain map. While its possible for this case to occur with good convergence $\\hat{r}$ values it does not converge to correct locations. To avoid this case proper constraints on the altimeter noise prior should be selected to make this type of convergence impossible. Given that the noise performance of an alimiter will be provided by most vendors this should not be difficult in practice.\n",
    "\n",
    "In the future this algorithm could be explored in other scenarios in more detail. Chaining multiple runs together where the posterior from previous run becomes prior for the next run. This would allow solution of flight paths where the steady level flight assumption is expanded to 'piecewise' steady level flight. Since, the posteriors from the initial solution will have small variance this means that in follow on parts of the chain that other variables like $\\gamma$ and $H$ could be left free to represent altitude or heading change and be solved without massive increase in the number of samples required.\n",
    "Integration of the MCMC algorithm with an extended kalman filter and IMU would allow total abandonment of the steady level flight assumption and allow for complex trajectories to be solved. Finally this method could be compared against other terrain aided navigation techniques which rely on digital elevation models such as presented in [1,2,3]"
   ]
  },
  {
   "cell_type": "markdown",
   "metadata": {},
   "source": [
    "# References\n",
    "\n",
    "1. B. Turan and A. T. Kutay, \"Particle filter studies on terrain referenced navigation,\" 2016 IEEE/ION Position, Location and Navigation Symposium (PLANS), Savannah, GA, USA, 2016, pp. 949-954, doi: 10.1109/PLANS.2016.7479793.\n",
    "2. Jason D. Carroll and Aaron J. Canciani\n",
    "NAVIGATION: Journal of the Institute of Navigation March 2021, 68 (1) 115-134; DOI: https://doi.org/10.1002/navi.406\n",
    "1. Bergman, N., Ljung, L., & Gustafsson, F. (1999). Terrain navigation using Bayesian statistics. IEEE Control Systems Magazine, 19(3), 33–40. https://doi.org/10.1109/37.768538"
   ]
  }
 ],
 "metadata": {
  "language_info": {
   "name": "python"
  }
 },
 "nbformat": 4,
 "nbformat_minor": 2
}
